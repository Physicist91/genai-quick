{
 "cells": [
  {
   "cell_type": "markdown",
   "id": "9f45fae5-6d94-4315-93f0-f367268e0b47",
   "metadata": {},
   "source": [
    "Here, we will build a simple summarization pipeline using the `transformers` library."
   ]
  },
  {
   "cell_type": "code",
   "execution_count": 2,
   "id": "6cd1ca06-8c99-4074-8f4f-06cf2d9aece6",
   "metadata": {},
   "outputs": [],
   "source": [
    "from transformers.utils import logging\n",
    "logging.set_verbosity_error() # suppress warnings\n",
    "\n",
    "from transformers import pipeline \n",
    "import torch"
   ]
  },
  {
   "cell_type": "markdown",
   "id": "0bfe0fae-3b9d-4cd3-835f-6cc4be66b313",
   "metadata": {},
   "source": [
    "The LLM used here is ['bart-large-cnn'](https://huggingface.co/facebook/bart-large-cnn)"
   ]
  },
  {
   "cell_type": "code",
   "execution_count": 3,
   "id": "9d048fe1-6dcd-4020-8843-953fb2d2ce0e",
   "metadata": {},
   "outputs": [
    {
     "data": {
      "application/vnd.jupyter.widget-view+json": {
       "model_id": "7f411fadea754eea8deb851e7211bfed",
       "version_major": 2,
       "version_minor": 0
      },
      "text/plain": [
       "config.json:   0%|          | 0.00/1.58k [00:00<?, ?B/s]"
      ]
     },
     "metadata": {},
     "output_type": "display_data"
    },
    {
     "data": {
      "application/vnd.jupyter.widget-view+json": {
       "model_id": "55f368d475194c0084ecc0b9751bce24",
       "version_major": 2,
       "version_minor": 0
      },
      "text/plain": [
       "model.safetensors:   0%|          | 0.00/1.63G [00:00<?, ?B/s]"
      ]
     },
     "metadata": {},
     "output_type": "display_data"
    },
    {
     "data": {
      "application/vnd.jupyter.widget-view+json": {
       "model_id": "b322cf711f354cbdb060900c2a56dae4",
       "version_major": 2,
       "version_minor": 0
      },
      "text/plain": [
       "generation_config.json:   0%|          | 0.00/363 [00:00<?, ?B/s]"
      ]
     },
     "metadata": {},
     "output_type": "display_data"
    },
    {
     "data": {
      "application/vnd.jupyter.widget-view+json": {
       "model_id": "bd6432dc3e404c7a890fed9c947bd737",
       "version_major": 2,
       "version_minor": 0
      },
      "text/plain": [
       "vocab.json:   0%|          | 0.00/899k [00:00<?, ?B/s]"
      ]
     },
     "metadata": {},
     "output_type": "display_data"
    },
    {
     "data": {
      "application/vnd.jupyter.widget-view+json": {
       "model_id": "a4f3e5c95f6945c8bdb7e5c4a1a2c524",
       "version_major": 2,
       "version_minor": 0
      },
      "text/plain": [
       "merges.txt:   0%|          | 0.00/456k [00:00<?, ?B/s]"
      ]
     },
     "metadata": {},
     "output_type": "display_data"
    },
    {
     "data": {
      "application/vnd.jupyter.widget-view+json": {
       "model_id": "565dfef9771441cfa813bdfc736f00ea",
       "version_major": 2,
       "version_minor": 0
      },
      "text/plain": [
       "tokenizer.json:   0%|          | 0.00/1.36M [00:00<?, ?B/s]"
      ]
     },
     "metadata": {},
     "output_type": "display_data"
    }
   ],
   "source": [
    "summarizer = pipeline(task=\"summarization\",\n",
    "                      model=\"facebook/bart-large-cnn\",\n",
    "                      torch_dtype=torch.bfloat16)"
   ]
  },
  {
   "cell_type": "code",
   "execution_count": 5,
   "id": "4df4005b-13bc-431e-ae89-b981e536f7b0",
   "metadata": {},
   "outputs": [],
   "source": [
    "text = \"\"\"Jakarta is the capital and most populous city of Indonesia, with\n",
    "          an estimated population of 10.56 million as of 2020,\n",
    "          in an area of more than 661.5 square kilometers.\n",
    "          Jakarta sits on the northwest coast of the island of Java.\n",
    "          A historic mix of cultures – Javanese, Malay, Chinese, Arab, Indian and European – has influenced its architecture, language and cuisine.\n",
    "          The old town, Kota Tua, is home to Dutch colonial buildings, Glodok (Jakarta’s Chinatown), and \\\n",
    "          the old port of Sunda Kelapa, where traditional wooden schooners dock.\"\"\""
   ]
  },
  {
   "cell_type": "code",
   "execution_count": 6,
   "id": "36dd50b5-3344-4c99-b20c-f907937cd5ac",
   "metadata": {},
   "outputs": [],
   "source": [
    "summary = summarizer(text,\n",
    "                     min_length=10,\n",
    "                     max_length=100)"
   ]
  },
  {
   "cell_type": "code",
   "execution_count": 7,
   "id": "44fba131-cf15-451c-90ea-7c5017d8a872",
   "metadata": {},
   "outputs": [
    {
     "data": {
      "text/plain": [
       "[{'summary_text': 'Jakarta is the capital and most populous city of Indonesia. It has an estimated population of 10.56 million as of 2020. The old town, Kota Tua, is home to Dutch colonial buildings.'}]"
      ]
     },
     "execution_count": 7,
     "metadata": {},
     "output_type": "execute_result"
    }
   ],
   "source": [
    "summary"
   ]
  },
  {
   "cell_type": "markdown",
   "id": "42cfa830-8651-40f8-bcc0-af49b7bd1fa8",
   "metadata": {},
   "source": [
    "## Sentence Embeddings\n",
    "\n",
    "In this section, we measure sentence similarity of two pieces of text, useful for information retrieval or grouping/clustering. To install the required libraries:\n",
    "``` \r\n",
    "    !pip install sentence-transformers\r\n",
    "```"
   ]
  },
  {
   "cell_type": "code",
   "execution_count": 1,
   "id": "df1f1bc1-636c-4a96-8611-ef60c6f93eb9",
   "metadata": {},
   "outputs": [
    {
     "data": {
      "application/vnd.jupyter.widget-view+json": {
       "model_id": "f889da884f71431a93b748a819ac0da8",
       "version_major": 2,
       "version_minor": 0
      },
      "text/plain": [
       "modules.json:   0%|          | 0.00/349 [00:00<?, ?B/s]"
      ]
     },
     "metadata": {},
     "output_type": "display_data"
    },
    {
     "data": {
      "application/vnd.jupyter.widget-view+json": {
       "model_id": "6b50008044584875955cc1cd9c2abf6e",
       "version_major": 2,
       "version_minor": 0
      },
      "text/plain": [
       "config_sentence_transformers.json:   0%|          | 0.00/116 [00:00<?, ?B/s]"
      ]
     },
     "metadata": {},
     "output_type": "display_data"
    },
    {
     "data": {
      "application/vnd.jupyter.widget-view+json": {
       "model_id": "2e2ab4dd364b4b639c79d72980fb54c0",
       "version_major": 2,
       "version_minor": 0
      },
      "text/plain": [
       "README.md:   0%|          | 0.00/10.7k [00:00<?, ?B/s]"
      ]
     },
     "metadata": {},
     "output_type": "display_data"
    },
    {
     "data": {
      "application/vnd.jupyter.widget-view+json": {
       "model_id": "36bf7fd2f142406f887fa8657c58daa5",
       "version_major": 2,
       "version_minor": 0
      },
      "text/plain": [
       "sentence_bert_config.json:   0%|          | 0.00/53.0 [00:00<?, ?B/s]"
      ]
     },
     "metadata": {},
     "output_type": "display_data"
    },
    {
     "data": {
      "application/vnd.jupyter.widget-view+json": {
       "model_id": "d95cb7f4316445ed9f96f10426b5f551",
       "version_major": 2,
       "version_minor": 0
      },
      "text/plain": [
       "config.json:   0%|          | 0.00/612 [00:00<?, ?B/s]"
      ]
     },
     "metadata": {},
     "output_type": "display_data"
    },
    {
     "data": {
      "application/vnd.jupyter.widget-view+json": {
       "model_id": "b5cc85584482437b9842a7142c242115",
       "version_major": 2,
       "version_minor": 0
      },
      "text/plain": [
       "pytorch_model.bin:   0%|          | 0.00/90.9M [00:00<?, ?B/s]"
      ]
     },
     "metadata": {},
     "output_type": "display_data"
    },
    {
     "data": {
      "application/vnd.jupyter.widget-view+json": {
       "model_id": "5748ee595a104e3e98b9a91d01cd051a",
       "version_major": 2,
       "version_minor": 0
      },
      "text/plain": [
       "tokenizer_config.json:   0%|          | 0.00/350 [00:00<?, ?B/s]"
      ]
     },
     "metadata": {},
     "output_type": "display_data"
    },
    {
     "data": {
      "application/vnd.jupyter.widget-view+json": {
       "model_id": "1b1b2dc0be4c4b65ae5333be249a54ca",
       "version_major": 2,
       "version_minor": 0
      },
      "text/plain": [
       "vocab.txt:   0%|          | 0.00/232k [00:00<?, ?B/s]"
      ]
     },
     "metadata": {},
     "output_type": "display_data"
    },
    {
     "data": {
      "application/vnd.jupyter.widget-view+json": {
       "model_id": "1633dc7524c1496da3da79ceb0d5b931",
       "version_major": 2,
       "version_minor": 0
      },
      "text/plain": [
       "tokenizer.json:   0%|          | 0.00/466k [00:00<?, ?B/s]"
      ]
     },
     "metadata": {},
     "output_type": "display_data"
    },
    {
     "data": {
      "application/vnd.jupyter.widget-view+json": {
       "model_id": "f25da856d7ad49648674726516e2f322",
       "version_major": 2,
       "version_minor": 0
      },
      "text/plain": [
       "special_tokens_map.json:   0%|          | 0.00/112 [00:00<?, ?B/s]"
      ]
     },
     "metadata": {},
     "output_type": "display_data"
    },
    {
     "data": {
      "application/vnd.jupyter.widget-view+json": {
       "model_id": "ac76746ec4e64658b88665518e51e6df",
       "version_major": 2,
       "version_minor": 0
      },
      "text/plain": [
       "1_Pooling/config.json:   0%|          | 0.00/190 [00:00<?, ?B/s]"
      ]
     },
     "metadata": {},
     "output_type": "display_data"
    }
   ],
   "source": [
    "from transformers.utils import logging\n",
    "logging.set_verbosity_error() # suppress warning messages\n",
    "\n",
    "from sentence_transformers import SentenceTransformer\n",
    "from sentence_transformers import util\n",
    "model = SentenceTransformer(\"all-MiniLM-L6-v2\")"
   ]
  },
  {
   "cell_type": "markdown",
   "id": "0137cecc-afb7-462a-a938-9d06dbfd0c13",
   "metadata": {},
   "source": [
    "In the above, we import the `SentenceTransformer` class, which is then used to load the [all-MiniLM-L6-v2](https://huggingface.co/sentence-transformers/all-MiniLM-L6-v2) sentence embedding model, which converts input text into embedding vectors. "
   ]
  },
  {
   "cell_type": "code",
   "execution_count": 2,
   "id": "fd653b6c-ec65-4698-926a-2e6f365a8c37",
   "metadata": {},
   "outputs": [],
   "source": [
    "sentences1 = ['People love cats',\n",
    "              'Students are learning robotics',\n",
    "              'The plan is fantastic']"
   ]
  },
  {
   "cell_type": "code",
   "execution_count": 3,
   "id": "0071e70a-9d93-4dc5-aecb-5a87e892c021",
   "metadata": {},
   "outputs": [],
   "source": [
    "embeddings1 = model.encode(sentences1, convert_to_tensor=True) # make sure we get tensor as output"
   ]
  },
  {
   "cell_type": "code",
   "execution_count": 4,
   "id": "02f2b143-f384-41bc-85df-cf9eeb113645",
   "metadata": {},
   "outputs": [
    {
     "data": {
      "text/plain": [
       "tensor([[ 0.0573,  0.0129,  0.0817,  ...,  0.0944,  0.1124,  0.0369],\n",
       "        [ 0.0120, -0.0606,  0.0035,  ...,  0.0517, -0.0638,  0.0297],\n",
       "        [-0.0612,  0.0818,  0.0060,  ..., -0.0038, -0.0387,  0.0129]])"
      ]
     },
     "execution_count": 4,
     "metadata": {},
     "output_type": "execute_result"
    }
   ],
   "source": [
    "print(embeddings1)"
   ]
  },
  {
   "cell_type": "code",
   "execution_count": 5,
   "id": "03f40d7b-7fa9-4b4c-8996-199ff7d4a1ee",
   "metadata": {},
   "outputs": [],
   "source": [
    "sentences2 = ['Girls like kittens',\n",
    "              'Professors teach AI',\n",
    "              'The new plan is so good']"
   ]
  },
  {
   "cell_type": "code",
   "execution_count": 6,
   "id": "33517bc6-2daf-4a83-a1fa-8cb195b8fe86",
   "metadata": {},
   "outputs": [],
   "source": [
    "embeddings2 = model.encode(sentences2, convert_to_tensor=True)"
   ]
  },
  {
   "cell_type": "code",
   "execution_count": 7,
   "id": "a2ac605d-ca47-44b0-9fdb-3027bce8e961",
   "metadata": {},
   "outputs": [
    {
     "name": "stdout",
     "output_type": "stream",
     "text": [
      "tensor([[-0.0079, -0.0359,  0.0422,  ...,  0.0699,  0.0833, -0.0151],\n",
      "        [ 0.0108, -0.0791, -0.0280,  ...,  0.0540,  0.0025, -0.0517],\n",
      "        [-0.0291, -0.0010,  0.0850,  ..., -0.0615, -0.0089,  0.0600]])\n"
     ]
    }
   ],
   "source": [
    "print(embeddings2)"
   ]
  },
  {
   "cell_type": "markdown",
   "id": "32bc31cb-ffd8-42cb-bd78-7c79ce3792f5",
   "metadata": {},
   "source": [
    "To calculate how close the sentences are, we use the cosine similarity."
   ]
  },
  {
   "cell_type": "code",
   "execution_count": 9,
   "id": "7b8d0779-87ff-4507-aee6-7280a88c7b1a",
   "metadata": {},
   "outputs": [],
   "source": [
    "cosine_scores = util.cos_sim(embeddings1,embeddings2)"
   ]
  },
  {
   "cell_type": "code",
   "execution_count": 10,
   "id": "46327b44-0382-4e43-a849-20777bfda11f",
   "metadata": {},
   "outputs": [
    {
     "name": "stdout",
     "output_type": "stream",
     "text": [
      "tensor([[ 0.5480, -0.0190,  0.0796],\n",
      "        [ 0.1634,  0.4903,  0.0945],\n",
      "        [ 0.0403,  0.0667,  0.7678]])\n"
     ]
    }
   ],
   "source": [
    "# we get pairwise similarity for each sentence\n",
    "print(cosine_scores)"
   ]
  },
  {
   "cell_type": "markdown",
   "id": "0773b245-a678-4bb2-871f-83da5f041a97",
   "metadata": {},
   "source": [
    "In particular:\n",
    "* \"people love cats\" and \"girls like kittens\" have similarity of 0.5480\n",
    "* \"students are learning robotics\" and \"professors teach AI\" have similarity of 0.4903\n",
    "* \"the plan is fantastic\" and \"the new plan is so good\" have similarity of 0.7688"
   ]
  },
  {
   "cell_type": "code",
   "execution_count": null,
   "id": "27b89e94-ab0a-46cf-9c31-543f98eb0e7f",
   "metadata": {},
   "outputs": [],
   "source": []
  }
 ],
 "metadata": {
  "kernelspec": {
   "display_name": "Python 3 (ipykernel)",
   "language": "python",
   "name": "python3"
  },
  "language_info": {
   "codemirror_mode": {
    "name": "ipython",
    "version": 3
   },
   "file_extension": ".py",
   "mimetype": "text/x-python",
   "name": "python",
   "nbconvert_exporter": "python",
   "pygments_lexer": "ipython3",
   "version": "3.10.13"
  }
 },
 "nbformat": 4,
 "nbformat_minor": 5
}
