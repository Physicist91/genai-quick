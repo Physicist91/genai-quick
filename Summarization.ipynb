{
 "cells": [
  {
   "cell_type": "markdown",
   "id": "9f45fae5-6d94-4315-93f0-f367268e0b47",
   "metadata": {},
   "source": [
    "Here, we will build a simple summarization pipeline using the `transformers` library."
   ]
  },
  {
   "cell_type": "code",
   "execution_count": 2,
   "id": "6cd1ca06-8c99-4074-8f4f-06cf2d9aece6",
   "metadata": {},
   "outputs": [],
   "source": [
    "from transformers.utils import logging\n",
    "logging.set_verbosity_error() # suppress warnings\n",
    "\n",
    "from transformers import pipeline \n",
    "import torch"
   ]
  },
  {
   "cell_type": "markdown",
   "id": "0bfe0fae-3b9d-4cd3-835f-6cc4be66b313",
   "metadata": {},
   "source": [
    "The LLM used here is ['bart-large-cnn'](https://huggingface.co/facebook/bart-large-cnn)"
   ]
  },
  {
   "cell_type": "code",
   "execution_count": 3,
   "id": "9d048fe1-6dcd-4020-8843-953fb2d2ce0e",
   "metadata": {},
   "outputs": [
    {
     "data": {
      "application/vnd.jupyter.widget-view+json": {
       "model_id": "7f411fadea754eea8deb851e7211bfed",
       "version_major": 2,
       "version_minor": 0
      },
      "text/plain": [
       "config.json:   0%|          | 0.00/1.58k [00:00<?, ?B/s]"
      ]
     },
     "metadata": {},
     "output_type": "display_data"
    },
    {
     "data": {
      "application/vnd.jupyter.widget-view+json": {
       "model_id": "55f368d475194c0084ecc0b9751bce24",
       "version_major": 2,
       "version_minor": 0
      },
      "text/plain": [
       "model.safetensors:   0%|          | 0.00/1.63G [00:00<?, ?B/s]"
      ]
     },
     "metadata": {},
     "output_type": "display_data"
    },
    {
     "data": {
      "application/vnd.jupyter.widget-view+json": {
       "model_id": "b322cf711f354cbdb060900c2a56dae4",
       "version_major": 2,
       "version_minor": 0
      },
      "text/plain": [
       "generation_config.json:   0%|          | 0.00/363 [00:00<?, ?B/s]"
      ]
     },
     "metadata": {},
     "output_type": "display_data"
    },
    {
     "data": {
      "application/vnd.jupyter.widget-view+json": {
       "model_id": "bd6432dc3e404c7a890fed9c947bd737",
       "version_major": 2,
       "version_minor": 0
      },
      "text/plain": [
       "vocab.json:   0%|          | 0.00/899k [00:00<?, ?B/s]"
      ]
     },
     "metadata": {},
     "output_type": "display_data"
    },
    {
     "data": {
      "application/vnd.jupyter.widget-view+json": {
       "model_id": "a4f3e5c95f6945c8bdb7e5c4a1a2c524",
       "version_major": 2,
       "version_minor": 0
      },
      "text/plain": [
       "merges.txt:   0%|          | 0.00/456k [00:00<?, ?B/s]"
      ]
     },
     "metadata": {},
     "output_type": "display_data"
    },
    {
     "data": {
      "application/vnd.jupyter.widget-view+json": {
       "model_id": "565dfef9771441cfa813bdfc736f00ea",
       "version_major": 2,
       "version_minor": 0
      },
      "text/plain": [
       "tokenizer.json:   0%|          | 0.00/1.36M [00:00<?, ?B/s]"
      ]
     },
     "metadata": {},
     "output_type": "display_data"
    }
   ],
   "source": [
    "summarizer = pipeline(task=\"summarization\",\n",
    "                      model=\"facebook/bart-large-cnn\",\n",
    "                      torch_dtype=torch.bfloat16)"
   ]
  },
  {
   "cell_type": "code",
   "execution_count": 5,
   "id": "4df4005b-13bc-431e-ae89-b981e536f7b0",
   "metadata": {},
   "outputs": [],
   "source": [
    "text = \"\"\"Jakarta is the capital and most populous city of Indonesia, with\n",
    "          an estimated population of 10.56 million as of 2020,\n",
    "          in an area of more than 661.5 square kilometers.\n",
    "          Jakarta sits on the northwest coast of the island of Java.\n",
    "          A historic mix of cultures – Javanese, Malay, Chinese, Arab, Indian and European – has influenced its architecture, language and cuisine.\n",
    "          The old town, Kota Tua, is home to Dutch colonial buildings, Glodok (Jakarta’s Chinatown), and \\\n",
    "          the old port of Sunda Kelapa, where traditional wooden schooners dock.\"\"\""
   ]
  },
  {
   "cell_type": "code",
   "execution_count": 6,
   "id": "36dd50b5-3344-4c99-b20c-f907937cd5ac",
   "metadata": {},
   "outputs": [],
   "source": [
    "summary = summarizer(text,\n",
    "                     min_length=10,\n",
    "                     max_length=100)"
   ]
  },
  {
   "cell_type": "code",
   "execution_count": 7,
   "id": "44fba131-cf15-451c-90ea-7c5017d8a872",
   "metadata": {},
   "outputs": [
    {
     "data": {
      "text/plain": [
       "[{'summary_text': 'Jakarta is the capital and most populous city of Indonesia. It has an estimated population of 10.56 million as of 2020. The old town, Kota Tua, is home to Dutch colonial buildings.'}]"
      ]
     },
     "execution_count": 7,
     "metadata": {},
     "output_type": "execute_result"
    }
   ],
   "source": [
    "summary"
   ]
  },
  {
   "cell_type": "code",
   "execution_count": null,
   "id": "22ab5426-3a3a-4c07-a746-40955b4b50d7",
   "metadata": {},
   "outputs": [],
   "source": []
  }
 ],
 "metadata": {
  "kernelspec": {
   "display_name": "Python 3 (ipykernel)",
   "language": "python",
   "name": "python3"
  },
  "language_info": {
   "codemirror_mode": {
    "name": "ipython",
    "version": 3
   },
   "file_extension": ".py",
   "mimetype": "text/x-python",
   "name": "python",
   "nbconvert_exporter": "python",
   "pygments_lexer": "ipython3",
   "version": "3.10.13"
  }
 },
 "nbformat": 4,
 "nbformat_minor": 5
}
