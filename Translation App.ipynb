{
 "cells": [
  {
   "cell_type": "markdown",
   "id": "bf25a168-6460-426e-9e8a-9f02f2fc82da",
   "metadata": {},
   "source": [
    "Here, we build a translation application using the `transformers` library. To install the required libraries:\n",
    "```\n",
    "    !pip install transformers \n",
    "    !pip install torch\n",
    "```"
   ]
  },
  {
   "cell_type": "code",
   "execution_count": 1,
   "id": "9446874d-bcae-4525-8afd-02dcf5f54a30",
   "metadata": {},
   "outputs": [],
   "source": [
    "from transformers.utils import logging\n",
    "logging.set_verbosity_error() # suppress warning messages\n",
    "\n",
    "from transformers import pipeline \n",
    "import torch"
   ]
  },
  {
   "cell_type": "markdown",
   "id": "2d5895d1-44f4-4ae0-a994-48b5982b45f1",
   "metadata": {},
   "source": [
    "The LLM we use for this translation task is the NLLB (No Language Left Behind) from Meta: ['nllb-200-distilled-600M'](https://huggingface.co/facebook/nllb-200-distilled-600M), which is capable of translating into 200 different languages. We compress the model by specifying `torch_dtype=torch.bfloat16`."
   ]
  },
  {
   "cell_type": "code",
   "execution_count": 3,
   "id": "78226731-b0ca-4c55-8c67-4c6976414d4b",
   "metadata": {},
   "outputs": [
    {
     "data": {
      "application/vnd.jupyter.widget-view+json": {
       "model_id": "b2dd6f8ecb1e4cff9a0b554f6ddd1b8f",
       "version_major": 2,
       "version_minor": 0
      },
      "text/plain": [
       "config.json:   0%|          | 0.00/846 [00:00<?, ?B/s]"
      ]
     },
     "metadata": {},
     "output_type": "display_data"
    },
    {
     "data": {
      "application/vnd.jupyter.widget-view+json": {
       "model_id": "497ba183bd1548809be77fbe28da0dd4",
       "version_major": 2,
       "version_minor": 0
      },
      "text/plain": [
       "pytorch_model.bin:   0%|          | 0.00/2.46G [00:00<?, ?B/s]"
      ]
     },
     "metadata": {},
     "output_type": "display_data"
    },
    {
     "data": {
      "application/vnd.jupyter.widget-view+json": {
       "model_id": "922092f9a5a542cdb51d9c03da17c49e",
       "version_major": 2,
       "version_minor": 0
      },
      "text/plain": [
       "generation_config.json:   0%|          | 0.00/189 [00:00<?, ?B/s]"
      ]
     },
     "metadata": {},
     "output_type": "display_data"
    },
    {
     "data": {
      "application/vnd.jupyter.widget-view+json": {
       "model_id": "2b5bfab372c94bd5853a7b6d334979d8",
       "version_major": 2,
       "version_minor": 0
      },
      "text/plain": [
       "tokenizer_config.json:   0%|          | 0.00/564 [00:00<?, ?B/s]"
      ]
     },
     "metadata": {},
     "output_type": "display_data"
    },
    {
     "data": {
      "application/vnd.jupyter.widget-view+json": {
       "model_id": "4a6a6f944f1449efb868d6f801b8721c",
       "version_major": 2,
       "version_minor": 0
      },
      "text/plain": [
       "sentencepiece.bpe.model:   0%|          | 0.00/4.85M [00:00<?, ?B/s]"
      ]
     },
     "metadata": {},
     "output_type": "display_data"
    },
    {
     "data": {
      "application/vnd.jupyter.widget-view+json": {
       "model_id": "7236a2ce88be4ba08f3ffd59399e473a",
       "version_major": 2,
       "version_minor": 0
      },
      "text/plain": [
       "tokenizer.json:   0%|          | 0.00/17.3M [00:00<?, ?B/s]"
      ]
     },
     "metadata": {},
     "output_type": "display_data"
    },
    {
     "data": {
      "application/vnd.jupyter.widget-view+json": {
       "model_id": "d434feb4f83d4e099bcc6ef98482d6f3",
       "version_major": 2,
       "version_minor": 0
      },
      "text/plain": [
       "special_tokens_map.json:   0%|          | 0.00/3.55k [00:00<?, ?B/s]"
      ]
     },
     "metadata": {},
     "output_type": "display_data"
    }
   ],
   "source": [
    "translator = pipeline(task=\"translation\",\n",
    "                      model=\"facebook/nllb-200-distilled-600M\",\n",
    "                      torch_dtype=torch.bfloat16) "
   ]
  },
  {
   "cell_type": "code",
   "execution_count": 8,
   "id": "8e37c932-fd8b-4b5f-a598-0e8fe21d38ba",
   "metadata": {},
   "outputs": [],
   "source": [
    "text = \"\"\"\\\n",
    "Generative AI is cool.\n",
    "Deep Learning is fascinating.\n",
    "Artificial Intelligence is the future.\n",
    "Open-source is powerful.\n",
    "Language is beautiful!\"\"\""
   ]
  },
  {
   "cell_type": "markdown",
   "id": "e38641dc-39b0-4d34-a132-5d02920608b5",
   "metadata": {},
   "source": [
    "Language codes are available on the page: [Languages in FLORES-200](https://github.com/facebookresearch/flores/blob/main/flores200/README.md#languages-in-flores-200)\n",
    "\n",
    "Some of my favorite ones are:\n",
    "- Chinese: zho_Hans\n",
    "- French: fra_Latn\n",
    "- German: deu_Latn\n",
    "- Hindi: hin_Deva\n",
    "- Indonesian: ind_Latn\n",
    "- Japanese: jpn_Jpan\n",
    "- Korean: kor_Hang\n",
    "- Portuguese: por_Latn\n",
    "- Russian: rus_Cyrl\n",
    "- Spanish: spa_Latn\n",
    "- Thai: tha_Thai"
   ]
  },
  {
   "cell_type": "code",
   "execution_count": 9,
   "id": "8781a54a-87dc-402e-a26c-8b532395230b",
   "metadata": {},
   "outputs": [],
   "source": [
    "text_translated = translator(text,\n",
    "                             src_lang=\"eng_Latn\",\n",
    "                             tgt_lang=\"zho_Hans\")"
   ]
  },
  {
   "cell_type": "code",
   "execution_count": 10,
   "id": "3fa68a26-1fe9-49dd-a43a-95b6543dcb12",
   "metadata": {},
   "outputs": [
    {
     "data": {
      "text/plain": [
       "[{'translation_text': '创建人工智能很酷.深度学习很迷人.人工智能是未来.开源是强大的.语言很美丽.'}]"
      ]
     },
     "execution_count": 10,
     "metadata": {},
     "output_type": "execute_result"
    }
   ],
   "source": [
    "text_translated"
   ]
  },
  {
   "cell_type": "code",
   "execution_count": null,
   "id": "311ed90b-c792-4650-b3ef-6ca54ce3f7fd",
   "metadata": {},
   "outputs": [],
   "source": []
  }
 ],
 "metadata": {
  "kernelspec": {
   "display_name": "Python 3 (ipykernel)",
   "language": "python",
   "name": "python3"
  },
  "language_info": {
   "codemirror_mode": {
    "name": "ipython",
    "version": 3
   },
   "file_extension": ".py",
   "mimetype": "text/x-python",
   "name": "python",
   "nbconvert_exporter": "python",
   "pygments_lexer": "ipython3",
   "version": "3.10.13"
  }
 },
 "nbformat": 4,
 "nbformat_minor": 5
}
