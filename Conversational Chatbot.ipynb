{
 "cells": [
  {
   "cell_type": "markdown",
   "id": "9de08c16-9740-4448-83df-db73a231f334",
   "metadata": {},
   "source": [
    "To perform NLP tasks conveniently, install the `transformers` library via\n",
    "```\r\n",
    "    !pip install transformers\r\n",
    "```\n",
    "References:\n",
    "- [ASR](https://huggingface.co/tasks/automatic-speech-recognition) a.k.a. STT"
   ]
  },
  {
   "cell_type": "code",
   "execution_count": 1,
   "id": "5978093c-7b42-4ed0-9a44-66234a4299c8",
   "metadata": {},
   "outputs": [],
   "source": [
    "from transformers.utils import logging\n",
    "logging.set_verbosity_error() # suppress warning messages\n",
    "\n",
    "from transformers import pipeline"
   ]
  },
  {
   "cell_type": "markdown",
   "id": "b2e3c587-eed6-4ae1-a4d1-be741e75b8b3",
   "metadata": {},
   "source": [
    "Define the chatbot pipeline by specifying the task and the model to use. Note that we use an open-source model based on the [transformer architecture](https://arxiv.org/abs/1706.03762) that is small enough to fit on memory."
   ]
  },
  {
   "cell_type": "code",
   "execution_count": 2,
   "id": "02bbe698-72b5-42ee-8d40-566464e4bdd5",
   "metadata": {},
   "outputs": [
    {
     "data": {
      "application/vnd.jupyter.widget-view+json": {
       "model_id": "a55fb7f1b9c74ec08e506853a958bb94",
       "version_major": 2,
       "version_minor": 0
      },
      "text/plain": [
       "pytorch_model.bin:   0%|          | 0.00/730M [00:00<?, ?B/s]"
      ]
     },
     "metadata": {},
     "output_type": "display_data"
    },
    {
     "data": {
      "application/vnd.jupyter.widget-view+json": {
       "model_id": "46b49215561f41999a2bcffee68b6b7d",
       "version_major": 2,
       "version_minor": 0
      },
      "text/plain": [
       "generation_config.json:   0%|          | 0.00/347 [00:00<?, ?B/s]"
      ]
     },
     "metadata": {},
     "output_type": "display_data"
    },
    {
     "data": {
      "application/vnd.jupyter.widget-view+json": {
       "model_id": "662b54e4b37e4736a683691c4e84e044",
       "version_major": 2,
       "version_minor": 0
      },
      "text/plain": [
       "tokenizer_config.json:   0%|          | 0.00/1.15k [00:00<?, ?B/s]"
      ]
     },
     "metadata": {},
     "output_type": "display_data"
    },
    {
     "data": {
      "application/vnd.jupyter.widget-view+json": {
       "model_id": "41640f85f9d44a958e73eed22fd5fcd4",
       "version_major": 2,
       "version_minor": 0
      },
      "text/plain": [
       "vocab.json:   0%|          | 0.00/127k [00:00<?, ?B/s]"
      ]
     },
     "metadata": {},
     "output_type": "display_data"
    },
    {
     "data": {
      "application/vnd.jupyter.widget-view+json": {
       "model_id": "e2c833140ff44247a4747c86ecc135aa",
       "version_major": 2,
       "version_minor": 0
      },
      "text/plain": [
       "merges.txt:   0%|          | 0.00/62.9k [00:00<?, ?B/s]"
      ]
     },
     "metadata": {},
     "output_type": "display_data"
    },
    {
     "data": {
      "application/vnd.jupyter.widget-view+json": {
       "model_id": "3b6e155ca6cc4c8b9114d8f9c7049b2f",
       "version_major": 2,
       "version_minor": 0
      },
      "text/plain": [
       "added_tokens.json:   0%|          | 0.00/16.0 [00:00<?, ?B/s]"
      ]
     },
     "metadata": {},
     "output_type": "display_data"
    },
    {
     "data": {
      "application/vnd.jupyter.widget-view+json": {
       "model_id": "eecbbb0f29ae4d788c2e72d2a5064c08",
       "version_major": 2,
       "version_minor": 0
      },
      "text/plain": [
       "special_tokens_map.json:   0%|          | 0.00/772 [00:00<?, ?B/s]"
      ]
     },
     "metadata": {},
     "output_type": "display_data"
    },
    {
     "data": {
      "application/vnd.jupyter.widget-view+json": {
       "model_id": "35d3246e5aac4767a5b24b0fdc201fe7",
       "version_major": 2,
       "version_minor": 0
      },
      "text/plain": [
       "tokenizer.json:   0%|          | 0.00/310k [00:00<?, ?B/s]"
      ]
     },
     "metadata": {},
     "output_type": "display_data"
    }
   ],
   "source": [
    "chatbot = pipeline(task=\"conversational\",\n",
    "                   model=\"facebook/blenderbot-400M-distill\")"
   ]
  },
  {
   "cell_type": "markdown",
   "id": "b2727a0d-c835-4344-b73c-3c3a9c4ee39c",
   "metadata": {},
   "source": [
    "The chatbot pipeline can be used to have a conversation upon receiving user message. For this, we use the conversation object."
   ]
  },
  {
   "cell_type": "code",
   "execution_count": 3,
   "id": "8d4020d0-b52c-4ee8-9083-fedcdf3a114e",
   "metadata": {},
   "outputs": [],
   "source": [
    "from transformers import Conversation"
   ]
  },
  {
   "cell_type": "code",
   "execution_count": 10,
   "id": "809f1177-f400-4d33-ba2b-bd80734b6797",
   "metadata": {},
   "outputs": [
    {
     "name": "stdout",
     "output_type": "stream",
     "text": [
      "Conversation id: b4dfcabd-5c75-4734-b4b2-611a12c07f7d\n",
      "user: \n",
      "What are some exciting things to do in Singapore?\n",
      "\n",
      "\n"
     ]
    }
   ],
   "source": [
    "user_message = \"\"\"\n",
    "What are some exciting things to do in Singapore?\n",
    "\"\"\"\n",
    "\n",
    "conversation = Conversation(user_message)\n",
    "\n",
    "print(conversation)"
   ]
  },
  {
   "cell_type": "code",
   "execution_count": 11,
   "id": "d1c7c078-2760-4aa6-b58e-daf0f0c131c1",
   "metadata": {},
   "outputs": [
    {
     "name": "stdout",
     "output_type": "stream",
     "text": [
      "Conversation id: b4dfcabd-5c75-4734-b4b2-611a12c07f7d\n",
      "user: \n",
      "What are some exciting things to do in Singapore?\n",
      "\n",
      "assistant:  I have never been there, but I know it is the largest city in the Pacific Northwest region of the United States.\n",
      "\n"
     ]
    }
   ],
   "source": [
    "conversation = chatbot(conversation)\n",
    "print(conversation)"
   ]
  },
  {
   "cell_type": "code",
   "execution_count": 12,
   "id": "bb8f7d14-54ea-499f-ba27-5e3888b9e05c",
   "metadata": {},
   "outputs": [
    {
     "name": "stdout",
     "output_type": "stream",
     "text": [
      "Conversation id: 70a61011-6ee9-4b19-96ee-06cab59f4265\n",
      "user: Are you sure?\n",
      "assistant:  Yes, I'm sure of it. I've been working on it for a long time.\n",
      "\n"
     ]
    }
   ],
   "source": [
    "# continue conversation\n",
    "# note that the Conversation object does not store any memory of the previous conversations so \n",
    "# to include prior conversations in the LLM's context, you can add a 'message' to include the previous chat history.\n",
    "print(chatbot(Conversation(\"Are you sure?\")))"
   ]
  },
  {
   "cell_type": "code",
   "execution_count": 13,
   "id": "236bb214-878a-4540-ac65-1231ce32e319",
   "metadata": {},
   "outputs": [
    {
     "name": "stdout",
     "output_type": "stream",
     "text": [
      "Conversation id: b4dfcabd-5c75-4734-b4b2-611a12c07f7d\n",
      "user: \n",
      "What are some exciting things to do in Singapore?\n",
      "\n",
      "assistant:  I have never been there, but I know it is the largest city in the Pacific Northwest region of the United States.\n",
      "user: \n",
      "Are you sure?\n",
      "\n",
      "\n"
     ]
    }
   ],
   "source": [
    "conversation.add_message(\n",
    "    {\"role\": \"user\",\n",
    "     \"content\": \"\"\"\n",
    "Are you sure?\n",
    "\"\"\"\n",
    "    })\n",
    "print(conversation)"
   ]
  },
  {
   "cell_type": "code",
   "execution_count": 14,
   "id": "0e8a5670-c991-4b5b-89d5-b1c5fc2f074f",
   "metadata": {},
   "outputs": [
    {
     "name": "stdout",
     "output_type": "stream",
     "text": [
      "Conversation id: b4dfcabd-5c75-4734-b4b2-611a12c07f7d\n",
      "user: \n",
      "What are some exciting things to do in Singapore?\n",
      "\n",
      "assistant:  I have never been there, but I know it is the largest city in the Pacific Northwest region of the United States.\n",
      "user: \n",
      "Are you sure?\n",
      "\n",
      "assistant:  Yes, I am sure it is.  It is the seventh-largest metropolitan area in the world.\n",
      "\n"
     ]
    }
   ],
   "source": [
    "conversation = chatbot(conversation)\n",
    "\n",
    "print(conversation)"
   ]
  },
  {
   "cell_type": "code",
   "execution_count": null,
   "id": "d353c9a4-fdc9-43d9-9ec8-6feca9e89de9",
   "metadata": {},
   "outputs": [],
   "source": []
  }
 ],
 "metadata": {
  "kernelspec": {
   "display_name": "Python 3 (ipykernel)",
   "language": "python",
   "name": "python3"
  },
  "language_info": {
   "codemirror_mode": {
    "name": "ipython",
    "version": 3
   },
   "file_extension": ".py",
   "mimetype": "text/x-python",
   "name": "python",
   "nbconvert_exporter": "python",
   "pygments_lexer": "ipython3",
   "version": "3.10.13"
  }
 },
 "nbformat": 4,
 "nbformat_minor": 5
}
